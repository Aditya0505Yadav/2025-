{
  "nbformat": 4,
  "nbformat_minor": 0,
  "metadata": {
    "colab": {
      "provenance": []
    },
    "kernelspec": {
      "name": "python3",
      "display_name": "Python 3"
    },
    "language_info": {
      "name": "python"
    }
  },
  "cells": [
    {
      "cell_type": "markdown",
      "source": [
        "# Applied Generative AI\n",
        "Instructor: Prof. Dehghani\n",
        "Welcome to the Applied Generative AI course. In this course, we will explore the foundations and applications of Generative AI using tools like OpenAI's API. By the end of this session, you will:\n",
        "\n",
        "🟢 Understand how to set up and connect to OpenAI's API.\n",
        "🌟 Learn about the roles (System, Assistant, User) in prompt design.\n",
        "✨ Generate text, images, and vector embeddings programmatically.\n",
        "🔧 Explore fine-tuning to customize AI models for specific tasks.\n",
        "Let’s get started with setting up the OpenAI API!"
      ],
      "metadata": {
        "id": "3S5eQNmwPUH8"
      }
    },
    {
      "cell_type": "code",
      "source": [
        "# Install the OpenAI Python SDK\n",
        "# This library allows us to interact with OpenAI's API for text, images, and embeddings.\n",
        "!pip install openai==0.28"
      ],
      "metadata": {
        "id": "WNdB6dNqWG7L",
        "colab": {
          "base_uri": "https://localhost:8080/"
        },
        "outputId": "9ef8420c-d576-4ff7-9e00-8195f1462e99"
      },
      "execution_count": 1,
      "outputs": [
        {
          "output_type": "stream",
          "name": "stdout",
          "text": [
            "Collecting openai==0.28\n",
            "  Downloading openai-0.28.0-py3-none-any.whl.metadata (13 kB)\n",
            "Requirement already satisfied: requests>=2.20 in /usr/local/lib/python3.11/dist-packages (from openai==0.28) (2.32.3)\n",
            "Requirement already satisfied: tqdm in /usr/local/lib/python3.11/dist-packages (from openai==0.28) (4.67.1)\n",
            "Requirement already satisfied: aiohttp in /usr/local/lib/python3.11/dist-packages (from openai==0.28) (3.11.15)\n",
            "Requirement already satisfied: charset-normalizer<4,>=2 in /usr/local/lib/python3.11/dist-packages (from requests>=2.20->openai==0.28) (3.4.1)\n",
            "Requirement already satisfied: idna<4,>=2.5 in /usr/local/lib/python3.11/dist-packages (from requests>=2.20->openai==0.28) (3.10)\n",
            "Requirement already satisfied: urllib3<3,>=1.21.1 in /usr/local/lib/python3.11/dist-packages (from requests>=2.20->openai==0.28) (2.4.0)\n",
            "Requirement already satisfied: certifi>=2017.4.17 in /usr/local/lib/python3.11/dist-packages (from requests>=2.20->openai==0.28) (2025.4.26)\n",
            "Requirement already satisfied: aiohappyeyeballs>=2.3.0 in /usr/local/lib/python3.11/dist-packages (from aiohttp->openai==0.28) (2.6.1)\n",
            "Requirement already satisfied: aiosignal>=1.1.2 in /usr/local/lib/python3.11/dist-packages (from aiohttp->openai==0.28) (1.3.2)\n",
            "Requirement already satisfied: attrs>=17.3.0 in /usr/local/lib/python3.11/dist-packages (from aiohttp->openai==0.28) (25.3.0)\n",
            "Requirement already satisfied: frozenlist>=1.1.1 in /usr/local/lib/python3.11/dist-packages (from aiohttp->openai==0.28) (1.6.0)\n",
            "Requirement already satisfied: multidict<7.0,>=4.5 in /usr/local/lib/python3.11/dist-packages (from aiohttp->openai==0.28) (6.4.3)\n",
            "Requirement already satisfied: propcache>=0.2.0 in /usr/local/lib/python3.11/dist-packages (from aiohttp->openai==0.28) (0.3.1)\n",
            "Requirement already satisfied: yarl<2.0,>=1.17.0 in /usr/local/lib/python3.11/dist-packages (from aiohttp->openai==0.28) (1.20.0)\n",
            "Downloading openai-0.28.0-py3-none-any.whl (76 kB)\n",
            "\u001b[2K   \u001b[90m━━━━━━━━━━━━━━━━━━━━━━━━━━━━━━━━━━━━━━━━\u001b[0m \u001b[32m76.5/76.5 kB\u001b[0m \u001b[31m3.1 MB/s\u001b[0m eta \u001b[36m0:00:00\u001b[0m\n",
            "\u001b[?25hInstalling collected packages: openai\n",
            "  Attempting uninstall: openai\n",
            "    Found existing installation: openai 1.76.2\n",
            "    Uninstalling openai-1.76.2:\n",
            "      Successfully uninstalled openai-1.76.2\n",
            "Successfully installed openai-0.28.0\n"
          ]
        }
      ]
    },
    {
      "cell_type": "code",
      "source": [
        "from google.colab import userdata\n",
        "import openai\n",
        "\n",
        "# Retrieve the key from Colab secrets\n",
        "openai.api_key = userdata.get(\"OPENAI_API_KEY\")\n",
        "\n",
        "# Confirm the key was loaded (for debugging only; don’t print your real key in shared notebooks!)\n",
        "print(\"Key loaded:\", \"Yes\" if openai.api_key else \"No\")\n"
      ],
      "metadata": {
        "id": "IkCBK7FpWJ4e",
        "colab": {
          "base_uri": "https://localhost:8080/"
        },
        "outputId": "affba048-992c-4434-cbc2-75e9af99364d"
      },
      "execution_count": 2,
      "outputs": [
        {
          "output_type": "stream",
          "name": "stdout",
          "text": [
            "Key loaded: Yes\n"
          ]
        }
      ]
    },
    {
      "cell_type": "markdown",
      "source": [
        "🎯 Prompt Playground: Understanding Roles\n",
        "In OpenAI's API, you interact with the model using roles, which define the flow of the conversation:\n",
        "\n",
        "➡️ System: Sets the behavior and tone of the assistant (e.g., \"You are a cheerful assistant.\").\n",
        "➡️ User: Represents the input or question from the user (e.g., \"What is AI?\").\n",
        "➡️ Assistant: Automatically generated responses based on the system and user inputs.\n",
        "💡 Why Roles Matter: Roles help control the assistant's personality and the quality of responses. For example:\n",
        "\n",
        "A system message like \"You are a strict teacher\" makes the assistant respond more formally.\n",
        "A system message like \"You are a friendly chatbot\" leads to casual responses.\n",
        "Let’s see how these roles work in the next cell!\n",
        "\n",
        "## Example 1: Without Assistant Role"
      ],
      "metadata": {
        "id": "Rtir4dZMPrc3"
      }
    },
    {
      "cell_type": "code",
      "source": [
        "import openai\n",
        "\n",
        "response = openai.ChatCompletion.create(\n",
        "    model=\"gpt-3.5-turbo\",\n",
        "    messages=[\n",
        "        {\"role\": \"system\", \"content\": \"You are a helpful assistant.\"},\n",
        "        {\"role\": \"user\", \"content\": \"What is the capital of France?\"}\n",
        "    ]\n",
        ")\n",
        "\n",
        "print(response['choices'][0]['message']['content'])\n"
      ],
      "metadata": {
        "id": "YXvUTgLCWq4u",
        "colab": {
          "base_uri": "https://localhost:8080/"
        },
        "outputId": "14a1b4c4-a94a-44e8-8516-fbf2057a317d"
      },
      "execution_count": 3,
      "outputs": [
        {
          "output_type": "stream",
          "name": "stdout",
          "text": [
            "The capital of France is Paris.\n"
          ]
        }
      ]
    },
    {
      "cell_type": "markdown",
      "source": [
        "# Example 2: With Assistant Role"
      ],
      "metadata": {
        "id": "ytKbu3esTO5N"
      }
    },
    {
      "cell_type": "code",
      "source": [
        "# Demonstrating roles in OpenAI's API with the assistant role\n",
        "\n",
        "# Define the conversation including a predefined assistant response\n",
        "messages = [\n",
        "    {\"role\": \"system\", \"content\": \"You are a math tutor who explains problems step by step.\"},  # System role sets the behavior\n",
        "    {\"role\": \"user\", \"content\": \"Solve for x: 2x + 5 = 15\"},  # User question\n",
        "    {\"role\": \"assistant\", \"content\": \"To solve for x: \\n1. Subtract 5 from both sides: 2x = 10\\n2. Divide both sides by 2: x = 5\"}  # Predefined assistant response\n",
        "]\n",
        "\n",
        "# Send the conversation to the API\n",
        "response = openai.ChatCompletion.create(\n",
        "    model=\"gpt-4\",  # Use the chosen model\n",
        "    messages=messages  # Pass the conversation\n",
        ")\n",
        "\n",
        "# Print the assistant's response\n",
        "print(\"Assistant's Response:\", response['choices'][0]['message']['content'])"
      ],
      "metadata": {
        "id": "9pcHetiWWuM-",
        "colab": {
          "base_uri": "https://localhost:8080/"
        },
        "outputId": "4d428f83-eb87-4559-f8da-e12e60ff4ced"
      },
      "execution_count": 4,
      "outputs": [
        {
          "output_type": "stream",
          "name": "stdout",
          "text": [
            "Assistant's Response: Let's solve the equation 2x + 5 = 15 step by step for x.\n",
            "\n",
            "Step 1: To get the 'x' term alone on one side of the equation, we first have to remove the '+5' term from the left-hand side. We can do that by subtracting '5' from both sides of the equation. That gives us:\n",
            "\n",
            "2x + 5 - 5 = 15 - 5 \n",
            "\n",
            "which simplifies to:\n",
            "\n",
            "2x = 10 \n",
            "\n",
            "Step 2: We now see that 'x' is multiplied by 2 on the left-hand side. To solve for 'x', we have to remove this multiplication. We do that by dividing both sides of the equation by 2. That gives us:\n",
            "\n",
            "2x/2 = 10/2 \n",
            "\n",
            "which simplifies to:\n",
            "\n",
            "x = 5\n",
            "\n",
            "So the solution is x = 5.\n"
          ]
        }
      ]
    },
    {
      "cell_type": "markdown",
      "source": [
        "🧮 Hands-On"
      ],
      "metadata": {
        "id": "BsL0AR6MTajz"
      }
    },
    {
      "cell_type": "code",
      "source": [
        "# ++++ Hands-On: Complete the Roles ++++\n",
        "\n",
        "# Define the conversation using the role structure\n",
        "messages = [\n",
        "    {\"role\": \"system\", \"content\": \"You are a math tutor who explains concepts clearly and step by step.\"},  # Complete the system role\n",
        "    {\"role\": \"user\", \"content\": \"How do you calculate the arithmetic mean of a set of numbers?\"},  # Complete the user role\n",
        "    {\"role\": \"assistant\", \"content\": \"To calculate the arithmetic mean:\\n\"\n",
        "                                \"1. Add all the numbers in the set.\\n\"\n",
        "                                \"2. Divide the sum by the number of numbers.\\n\\n\"\n",
        "                                \"For example, for 10, 20, and 30:\\n\"\n",
        "                                \"Mean = (10 + 20 + 30) / 3 = 60 / 3 = 20.\"\n",
        "                                }  # Optional predefined assistant response\n",
        "]\n",
        "\n",
        "# Uncomment the code below after completing the placeholders\n",
        "response = openai.ChatCompletion.create(\n",
        "    model=\"gpt-4\",  # Specify the model\n",
        "    messages=messages  # Pass the completed conversation\n",
        ")\n",
        "print(\"Assistant's Response:\", response['choices'][0]['message']['content'])"
      ],
      "metadata": {
        "id": "Bl5CCoC9TZ1z",
        "colab": {
          "base_uri": "https://localhost:8080/"
        },
        "outputId": "3e428432-ad0a-47bb-b039-88f35d623ccc"
      },
      "execution_count": 9,
      "outputs": [
        {
          "output_type": "stream",
          "name": "stdout",
          "text": [
            "Assistant's Response: Calculating the arithmetic mean (often simply called the \"mean\") of a set of numbers is quite straightforward. Here are the steps involved:\n",
            "\n",
            "Step 1: Add all the numbers in the set together. This total is often referred to as the sum of numbers.\n",
            "\n",
            "Step 2: Count the number of numbers in the set. This total is often called the size of the set.\n",
            "\n",
            "Step 3: Divide the sum of the numbers (from step 1) by the size of the set (from step 2). The result is the arithmetic mean of the set.\n",
            "\n",
            "For example, if the set of numbers is 5, 10, and 15:\n",
            "\n",
            "Step 1: Add all the numbers together: 5 + 10 + 15 = 30.\n",
            "Step 2: Count the number of numbers: There are 3 numbers in the set.\n",
            "Step 3: Divide the sum by the size of the set: 30 divided by 3 equals 10.\n",
            "\n",
            "So the arithmetic mean or \"average\" of 5, 10, and 15 is 10.\n"
          ]
        }
      ]
    },
    {
      "cell_type": "markdown",
      "source": [
        "* Understanding Roles:\n",
        "\n",
        "system: Sets the behavior or personality of the assistant.\n",
        "\n",
        "user: Represents the human asking a question or giving input.\n",
        "\n",
        "assistant: Represents the AI's response.\n",
        "\n",
        "* Correct Role Usage is Important:\n",
        "\n",
        "Only valid roles are allowed: 'system', 'user', and 'assistant'.\n",
        "\n",
        "Using placeholders like '----' will throw an InvalidRequestError.\n",
        "\n",
        "* Creating a Chat Sequence:\n",
        "\n",
        "You can create a conversation by passing a list of messages with roles.\n",
        "\n",
        "This sequence helps the AI model understand context and respond accordingly.\n",
        "\n",
        "* Optional Predefined Assistant Message:\n",
        "\n",
        "If you include an assistant message manually, the model won’t generate a new response unless you remove it.\n",
        "\n",
        "This is useful for testing or simulating a fixed conversation.\n",
        "\n",
        "* How to Call OpenAI's Chat API:\n",
        "\n",
        "Use openai.ChatCompletion.create() and pass the model and messages.\n",
        "\n",
        "The response includes the assistant’s reply under:\n",
        "response['choices'][0]['message']['content']\n",
        "\n",
        "* Helpful for Building Chatbots:\n",
        "\n",
        "This structure is foundational for creating chatbots, virtual assistants, and conversational apps."
      ],
      "metadata": {
        "id": "cEW6YME42OkQ"
      }
    },
    {
      "cell_type": "markdown",
      "source": [
        "Exercise 1: Simple Q&A with System + User Roles\n",
        "👉 Task:\n",
        "Write a prompt that asks the assistant to behave like a science teacher, then ask it a science-related question."
      ],
      "metadata": {
        "id": "bpTm-F37UIMv"
      }
    },
    {
      "cell_type": "code",
      "source": [
        "# 🧠 Define your own roles and prompt below\n",
        "messages = [\n",
        "    {\"role\": \"system\", \"content\": \"You are a good science Teacher\"},\n",
        "    {\"role\": \"user\", \"content\": \"'Explain how reproduction works in Human beings\"}\n",
        "]\n",
        "\n",
        "# 🧠 Call the OpenAI API with your customized prompt\n",
        "response = openai.ChatCompletion.create(\n",
        "    model=\"gpt-4\",\n",
        "    messages=messages\n",
        ")\n",
        "\n",
        "# 🧠 Print the model's response\n",
        "print(\"Assistant's Response:\", response['choices'][0]['message']['content'])"
      ],
      "metadata": {
        "id": "_ZNQimnSUIpr",
        "colab": {
          "base_uri": "https://localhost:8080/"
        },
        "outputId": "70e9eb17-3b8e-410b-d804-3f2ecda1c7e7"
      },
      "execution_count": 15,
      "outputs": [
        {
          "output_type": "stream",
          "name": "stdout",
          "text": [
            "Assistant's Response: Human reproduction is facilitated through sexual reproduction, involving both a male and a female. \n",
            "\n",
            "The male reproductive system creates and delivers sperm. The process begins in the testes, where sperm is produced. The matured sperm then travels through the epididymis for storage and further maturation. During ejaculation, the sperm moves through the vas deferens and mixes with seminal fluids to form semen.\n",
            "\n",
            "The female reproductive system is responsible for producing eggs (ova) and preparing the body for pregnancy. An egg matures in one of the ovaries' follicles during each menstrual cycle. Around mid-cycle, the follicle releases the egg, a process known as ovulation. The egg then moves into the fallopian tube, where fertilization can occur if the egg encounters a sperm.\n",
            "\n",
            "During sexual intercourse, the male ejaculates, and the sperm enters the female body through the vagina. The sperm then travels through the cervix and uterus to reach the fallopian tubes. If the sperm successfully meets and fertilizes the matured egg in the fallopian tube, this results in conception.\n",
            "\n",
            "The fertilized egg, or zygote, then divides into multiple cells and forms a blastocyst. The blastocyst travels down the fallopian tube and attaches itself to the uterus's lining, implanting itself: this is known as implantation. Once implanted, it will grow and develop over about nine months, eventually resulting in a baby. \n",
            "\n",
            "The baby is born through the process of labor, which involves contractions of the uterus pushing the baby through the birth canal (vagina). If vaginal birth isn't possible, a cesarean section (C-section) might be performed.\n",
            "\n",
            "In summary, human reproduction involves the production of sperm and eggs, fertilization, pregnancy, and childbirth.\n"
          ]
        }
      ]
    },
    {
      "cell_type": "markdown",
      "source": [
        "*How to talk to an AI model:\n",
        "\n",
        "I can create a conversation with roles like:\n",
        "\n",
        "system: tells the AI how to behave.\n",
        "\n",
        "user: your question or prompt.\n",
        "\n",
        "assistant: (optional) the AI’s reply (usually generated automatically).\n",
        "\n",
        "* How to define the assistant’s behavior:\n",
        "\n",
        "I told the AI: \"You are a good science teacher\" — so the assistant gives clear and helpful science answers.\n",
        "\n",
        "How to ask a question:\n",
        "\n",
        "I asked: \"Explain how reproduction works in human beings\" — this becomes the AI's task.\n",
        "\n",
        "* How to get and display the answer\n",
        "\n",
        "The response is saved in a variable called response.\n",
        "\n",
        "* Overall, it is clear that user prompts tell the assistant how to generate answers based on system definition\n",
        "Also, system is like topic; if even topic is wrong sometimes AI gives user queries relatively\n"
      ],
      "metadata": {
        "id": "nsWVE5HK38mh"
      }
    },
    {
      "cell_type": "markdown",
      "source": [
        "✍️ Exercise 2: Give a prompt of your choice.\n",
        "👉 Task:\n",
        "Now write your own custom prompt. Use any role, any question — be creative!"
      ],
      "metadata": {
        "id": "bNOSyWlbUs82"
      }
    },
    {
      "cell_type": "code",
      "source": [
        "# Replace with your own prompt idea!\n",
        "messages = [\n",
        "    {\"role\": \"system\", \"content\": \"You are a Advisor for International students in Northeastern University in Boston.\"},\n",
        "    {\"role\": \"user\", \"content\": \"What are the difficulties faced by International students during their education and how they overcome? I need solution in table\"}\n",
        "]\n",
        "\n",
        "response = openai.ChatCompletion.create(\n",
        "    model=\"gpt-4\",\n",
        "    messages=messages\n",
        ")\n",
        "\n",
        "print(\"Assistant's Response:\", response['choices'][0]['message']['content'])\n"
      ],
      "metadata": {
        "id": "frrq5UkhU8Xj",
        "colab": {
          "base_uri": "https://localhost:8080/"
        },
        "outputId": "9e4f2727-69fb-4087-b3bb-2c7372e4c847"
      },
      "execution_count": 16,
      "outputs": [
        {
          "output_type": "stream",
          "name": "stdout",
          "text": [
            "Assistant's Response: Sure, I'd be happy to present the challenges and solutions for international students in a table format.\n",
            "\n",
            "| Difficulties/Challenges              | Solutions                                                            |\n",
            "|-----------------------------------|--------------------------------------------------------------------|\n",
            "| 1. Language Barrier               | Avail of language support services, language courses, and practice English regularly with native speakers.                                                                 |\n",
            "| 2. Cultural Differences           | Actively engage in multicultural activities, join clubs for better cultural understanding, and communicate openly about cultural questions. |\n",
            "| 3. Homesickness                  | Get involved in social activities, maintain regular contact with family, join international students associations, and make friends by participating in student organizations. |\n",
            "| 4. Keeping Up with Academic Standards | Take advantage of Northeastern University's academic support, tutoring, and writing assistance; meet with professors for help.    |\n",
            "| 5. Financial Concerns             | Apply for scholarships and financial aid if available; seek on-campus jobs.                                         |\n",
            "| 6. Adapting to New Education System | Attend orientation programs; seek advice from professors and fellow students; use academic resources like libraries, study groups and workshops. |\n",
            "| 7. Navigating Health Insurance and Healthcare | Understand and utilize the health services and insurance through the university; attend health and wellness workshops. |\n",
            "| 8. Housing and Accommodation    | Use the university's housing services; connect with other students for shared accommodation solutions.                 |\n",
            "| 9. Visa and Immigration Issues   | Make use of the university's international student and scholar office for proper guidance and support with visa and immigration concerns.                                          |   \n",
            "\n",
            "Remember, as an advisor, you are there to support and guide international students about these difficulties they may encounter. Encourage them to seek help when necessary. Ultimately, their experience can be incredibly enriching and rewarding.\n"
          ]
        }
      ]
    },
    {
      "cell_type": "markdown",
      "source": [
        "* Prompting is same like earlier, but here user had some customizations like tables\n",
        "\n",
        "* Assistant gave solution as per user requirement only\n",
        "\n",
        "* Solutions are related to the Topic i.e System"
      ],
      "metadata": {
        "id": "xmsStI9E4-pr"
      }
    },
    {
      "cell_type": "code",
      "source": [],
      "metadata": {
        "id": "yIJh9B4Zy6Ll"
      },
      "execution_count": null,
      "outputs": []
    }
  ]
}